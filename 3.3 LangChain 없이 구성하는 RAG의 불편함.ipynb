{
 "cells": [
  {
   "cell_type": "markdown",
   "metadata": {},
   "source": [
    "# 1. 문서의 내용을 읽는다\n"
   ]
  },
  {
   "cell_type": "code",
   "execution_count": null,
   "metadata": {},
   "outputs": [],
   "source": [
    "from docx import Document\n",
    "\n",
    "document = Document('./tax.docx')\n",
    "\n",
    "full_text = ''\n",
    "for index, paragraph in enumerate(document.paragraphs):\n",
    "    full_text += f'{paragraph.text}\\n'\n",
    "    "
   ]
  },
  {
   "cell_type": "markdown",
   "metadata": {},
   "source": [
    "# 2. 문서를 쪼갠다"
   ]
  },
  {
   "cell_type": "code",
   "execution_count": null,
   "metadata": {},
   "outputs": [],
   "source": [
    "%pip install tiktoken"
   ]
  },
  {
   "cell_type": "code",
   "execution_count": null,
   "metadata": {},
   "outputs": [],
   "source": [
    "import tiktoken \n",
    "\n",
    "def split_text(full_text, chunk_size):\n",
    "    encoder = tiktoken.encoding_for_model(\"gpt-4o\")\n",
    "    total_encoding = encoder.encode(full_text)\n",
    "    total_token_count = len(total_encoding)\n",
    "    text_list = []\n",
    "    for i in range(0, total_token_count, chunk_size):\n",
    "        chunk = total_encoding[i: i+chunk_size]\n",
    "        decoded = encoder.decode(chunk)\n",
    "        text_list.append(decoded)\n",
    "    \n",
    "    return text_list"
   ]
  },
  {
   "cell_type": "code",
   "execution_count": null,
   "metadata": {},
   "outputs": [],
   "source": [
    "chunk_list = split_text(full_text, 1500)"
   ]
  },
  {
   "cell_type": "markdown",
   "metadata": {},
   "source": [
    "# 3. 문서 임베딩"
   ]
  },
  {
   "cell_type": "code",
   "execution_count": null,
   "metadata": {},
   "outputs": [],
   "source": [
    "%pip install chromadb"
   ]
  },
  {
   "cell_type": "code",
   "execution_count": null,
   "metadata": {},
   "outputs": [],
   "source": [
    "import chromadb\n",
    "\n",
    "chroma_client = chromadb.Client()"
   ]
  },
  {
   "cell_type": "code",
   "execution_count": null,
   "metadata": {},
   "outputs": [],
   "source": [
    "collection_name = 'tax_collection'\n",
    "tax_collection = chroma_client.create_collection(collection_name)"
   ]
  },
  {
   "cell_type": "code",
   "execution_count": null,
   "metadata": {},
   "outputs": [],
   "source": [
    "import os\n",
    "\n",
    "from dotenv import load_dotenv\n",
    "from chromadb.utils.embedding_functions import OpenAIEmbeddingFunction\n",
    "\n",
    "load_dotenv()\n",
    "openai_api_key = os.getenv('OPENAI_API_KEY')\n",
    "openai_embedding = OpenAIEmbeddingFunction(api_key=openai_api_key, model_name='text-embedding-3-large')"
   ]
  },
  {
   "cell_type": "code",
   "execution_count": null,
   "metadata": {},
   "outputs": [],
   "source": [
    "tax_collection = chroma_client.get_or_create_collection(collection_name, embedding_function=openai_embedding)"
   ]
  },
  {
   "cell_type": "code",
   "execution_count": null,
   "metadata": {},
   "outputs": [],
   "source": [
    "id_list = []\n",
    "for index in range(len(chunk_list)):\n",
    "    id_list.append(f'{index}')\n"
   ]
  },
  {
   "cell_type": "code",
   "execution_count": null,
   "metadata": {},
   "outputs": [],
   "source": [
    "len(id_list)"
   ]
  },
  {
   "cell_type": "code",
   "execution_count": null,
   "metadata": {},
   "outputs": [],
   "source": [
    "len(chunk_list)"
   ]
  },
  {
   "cell_type": "code",
   "execution_count": null,
   "metadata": {},
   "outputs": [],
   "source": [
    "tax_collection.add(documents=chunk_list, ids=id_list)"
   ]
  },
  {
   "cell_type": "markdown",
   "metadata": {},
   "source": [
    "# 4. 유사도 검색"
   ]
  },
  {
   "cell_type": "code",
   "execution_count": null,
   "metadata": {},
   "outputs": [],
   "source": [
    "query = '연봉 5천만원인 직장인의 소득세는 얼마인가요?'\n",
    "retrieved_doc = tax_collection.query(query_texts=query, n_results=3)"
   ]
  },
  {
   "cell_type": "code",
   "execution_count": null,
   "metadata": {},
   "outputs": [],
   "source": [
    "retrieved_doc['documents'][0]"
   ]
  },
  {
   "cell_type": "markdown",
   "metadata": {},
   "source": [
    "# 5. LLM 질의"
   ]
  },
  {
   "cell_type": "code",
   "execution_count": 28,
   "metadata": {},
   "outputs": [],
   "source": [
    "from openai import OpenAI\n",
    "client = OpenAI()\n",
    "\n",
    "response = client.chat.completions.create(\n",
    "  model=\"gpt-4o\",\n",
    "  messages=[\n",
    "    {\"role\": \"system\", \"content\": f\"당신은 한국의 소득세 전문가 입니다. 아래 내용을 참고해서 사용자의 질문에 답변해주세요 {retrieved_doc['documents'][0]}\"},\n",
    "    {\"role\": \"user\", \"content\": query}\n",
    "  ]\n",
    ")"
   ]
  },
  {
   "cell_type": "code",
   "execution_count": 33,
   "metadata": {},
   "outputs": [
    {
     "data": {
      "text/plain": [
       "'연봉 5천만원인 직장인의 소득세를 계산하기 위해서는 먼저 소득세 과세표준과 해당 표준에 따른 세율을 알아야 합니다. 우리나라의 소득세율은 누진세 구조를 갖고 있어서, 과세표준에 따라 적용되는 세율이 다릅니다. 계산을 위한 예제는 다음과 같습니다.\\n\\n1. **연봉 5천만원에서 근로소득 공제를 한 후 과세표준을 계산**합니다.\\n2. **연말정산 시 적용되는 세율을 적용**하여 소득세를 계산합니다.\\n3. **산출된 소득세에서 근로소득세액공제를 적용**합니다.\\n\\n### 1. 근로소득공제 계산\\n연봉 5천만원에 대한 근로소득 공제는 다음과 같이 계산됩니다.\\n\\n| 총급여액 (원)             | 공제액 계산 방법                    |\\n|------------------------|--------------------------------|\\n| 3천3백만원 초과 ~ 7천만원 이하 | 1,320만원 + (총급여액 - 3,300만원) x 25% |\\n\\n- **기본 공제분**: 1,320만원\\n- **추가 공제분**: (5,000만원 - 3,300만원) × 25% = 1,700만원 × 25% = 425만원\\n- **근로소득공제 합계**: 1,320만원 + 425만원 = 1,745만원\\n\\n### 2. 과세표준 계산\\n과세표준은 총급여액에서 근로소득공제액을 뺀 금액입니다.\\n\\n과세표준 = 연봉 5천만원 - 1,745만원 = 3,255만원\\n\\n### 3. 기본 세율 적용에 의한 소득세 계산\\n과세표준 3,255만원에 대응하는 세율을 적용합니다.\\n\\n| 과세표준 (원)              | 세율  |\\n|-----------------------|------|\\n| 1,200만원 초과 ~ 4,600만원 이하 | 15%  |\\n\\n과세표준이 3,255만원이므로 해당 금액이 위치하는 세율은 15%입니다.\\n\\n- **기본 공제분**: 1,200만원 x 6% = 72만원\\n- **추가 공제분**: (3,255만원 - 1,200만원) × 15% + 72만원\\n\\n추가 공제분은:\\n- (3,255만원 - 1,200만원) × 15% = 2,055만원 × 15% = 308.25만원\\n- **소득세**: 72만원 + 308.25만원 = 380.25만원\\n\\n### 4. 근로소득세액공제 적용\\n근로소득세액공제는 다음과 같습니다.\\n\\n| 총급여액 (원)                     | 공제액 계산 방법                                  |\\n|-------------------------------|-----------------------------------------|\\n| 3,300만원 초과 7천만원 이하          | 74만원 - [(총급여액 - 3,300만원) × 8/1000] |\\n\\n- 공제액: 74만원 - [(5000만원 - 3,300만원) × 8/1000]\\n- 공제액: 74만원 - (1700만원 × 8/1000) = 74만원 - 13.6만원 = 60.4만원\\n- 따라서 근로소득세액공제는 60.4만원이 됩니다.\\n\\n### 5. 최종 소득세 계산\\n산출 세액에서 근로소득세액공제를 뺍니다.\\n\\n최종 소득세 = 380.25만원 - 60.4만원 = 319.85만원\\n\\n따라서 연봉 5천만원인 직장인의 소득세는 **약 319.85만원**이 됩니다. 다만, 이는 기본적인 계산법이며 개인별로 적용되는 다른 공제 항목이나 세액 감면 등이 있을 수 있으므로, 실제 납부 소득세액은 다를 수 있습니다. 자세한 사항은 국세청 상담센터나 세무 전문가와 상담하시길 추천드립니다.'"
      ]
     },
     "execution_count": 33,
     "metadata": {},
     "output_type": "execute_result"
    }
   ],
   "source": [
    "response.choices[0].message.content"
   ]
  },
  {
   "cell_type": "code",
   "execution_count": null,
   "metadata": {},
   "outputs": [],
   "source": []
  }
 ],
 "metadata": {
  "kernelspec": {
   "display_name": "inflearn-llm-application",
   "language": "python",
   "name": "python3"
  },
  "language_info": {
   "codemirror_mode": {
    "name": "ipython",
    "version": 3
   },
   "file_extension": ".py",
   "mimetype": "text/x-python",
   "name": "python",
   "nbconvert_exporter": "python",
   "pygments_lexer": "ipython3",
   "version": "3.10.12"
  }
 },
 "nbformat": 4,
 "nbformat_minor": 2
}
